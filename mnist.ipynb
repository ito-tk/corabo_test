{
  "nbformat": 4,
  "nbformat_minor": 0,
  "metadata": {
    "colab": {
      "name": "mnist.ipynb",
      "provenance": [],
      "include_colab_link": true
    },
    "kernelspec": {
      "name": "python3",
      "display_name": "Python 3"
    }
  },
  "cells": [
    {
      "cell_type": "markdown",
      "metadata": {
        "id": "view-in-github",
        "colab_type": "text"
      },
      "source": [
        "<a href=\"https://colab.research.google.com/github/t-ito-takumi/corabo_test/blob/master/mnist.ipynb\" target=\"_parent\"><img src=\"https://colab.research.google.com/assets/colab-badge.svg\" alt=\"Open In Colab\"/></a>"
      ]
    },
    {
      "cell_type": "markdown",
      "metadata": {
        "id": "grOQTvxbJqjB",
        "colab_type": "text"
      },
      "source": [
        "準備"
      ]
    },
    {
      "cell_type": "code",
      "metadata": {
        "id": "C0KezCvGubg2",
        "colab_type": "code",
        "colab": {}
      },
      "source": [
        "import os,re\n",
        "import keras\n",
        "from keras.datasets import mnist\n",
        "from keras.utils import to_categorical\n",
        "from keras.preprocessing.image import ImageDataGenerator\n",
        "from keras.preprocessing import image\n",
        "from keras import models\n",
        "from keras.models import Model\n",
        "from keras import Input\n",
        "from keras.layers import Activation, Conv2D, MaxPooling2D, Flatten, Dense\n",
        "from keras.callbacks import TensorBoard, ModelCheckpoint\n",
        "import matplotlib.pyplot as plt\n",
        "import numpy as np\n",
        "from sklearn.model_selection import train_test_split"
      ],
      "execution_count": 0,
      "outputs": []
    },
    {
      "cell_type": "code",
      "metadata": {
        "id": "tHI3YyXj9bzN",
        "colab_type": "code",
        "colab": {}
      },
      "source": [
        "# 学習データとテストデータを取得する。\n",
        "(_x_train_val, _y_train_val), (_x_test, _y_test) = mnist.load_data()\n",
        "# 学習中の検証データがないので、train_test_split()を使って学習データ8割、検証データを2割に分割する。test_sizeが検証データの割合になっている。\n",
        "_x_train, _x_val, _y_train, _y_val = train_test_split(_x_train_val, _y_train_val, test_size=0.2)\n",
        "\n",
        "print(\"x_train   : \", _x_train.shape) # x_train   :  (48000, 28, 28)\n",
        "print(\"y_train   : \", _y_train.shape) # y_train   :  (48000,)\n",
        "print(\"x_val      : \", _x_val.shape) # x_val      :  (12000, 28, 28)\n",
        "print(\"y_val      : \", _y_val.shape) # y_val      :  (12000,)\n",
        "print(\"x_test    : \", _x_test.shape) # x_test    :  (10000, 28, 28)\n",
        "print(\"y_test    : \", _y_test.shape) # y_test    :  (10000,)"
      ],
      "execution_count": 0,
      "outputs": []
    },
    {
      "cell_type": "markdown",
      "metadata": {
        "id": "uFcuZvQBJtzY",
        "colab_type": "text"
      },
      "source": [
        "学習データの一部を表示"
      ]
    },
    {
      "cell_type": "code",
      "metadata": {
        "id": "MMLqva4k9fYi",
        "colab_type": "code",
        "colab": {}
      },
      "source": [
        "plt.figure(figsize=(10,10))\n",
        "\n",
        "# MNISTの0から9の画像をそれぞれ表示する。\n",
        "for i in range(10):\n",
        "    data = [(x,t) for x, t in zip(_x_train, _y_train) if t == i]\n",
        "    x, y = data[0]\n",
        "\n",
        "    plt.subplot(5,2, i+1)\n",
        "    # plt.title()はタイトルを表示する。ここでは画像枚数を表示している。\n",
        "    plt.title(\"len={}\".format(len(data)))\n",
        "    # 画像を見やすいように座標軸を非表示にする。\n",
        "    plt.axis(\"off\")\n",
        "    plt.imshow(x, cmap='gray')\n",
        "\n",
        "plt.tight_layout()\n",
        "plt.show()"
      ],
      "execution_count": 0,
      "outputs": []
    },
    {
      "cell_type": "code",
      "metadata": {
        "id": "jXqNS--U9iEk",
        "colab_type": "code",
        "colab": {}
      },
      "source": [
        "# 学習、検証、テストデータの前処理用関数。\n",
        "def preprocess(data, label=False):\n",
        "    if label:\n",
        "        # 教師データはto_categorical()でone-hot-encodingする。\n",
        "        data = to_categorical(data)\n",
        "    else:\n",
        "        # 入力画像は、astype('float32')で型変換を行い、レンジを0-1にするために255で割る。\n",
        "        # 0-255 -> 0-1\n",
        "        data = data.astype('float32') / 255\n",
        "        # Kerasの入力データの形式は(ミニバッチサイズ、横幅、縦幅、チャネル数)である必要があるので、reshape()を使って形式を変換する。\n",
        "        # (sample, width, height) -> (sample, width, height, channel)\n",
        "        data = data.reshape((-1, 28, 28, 1))\n",
        "\n",
        "    return data"
      ],
      "execution_count": 0,
      "outputs": []
    },
    {
      "cell_type": "code",
      "metadata": {
        "id": "_QZPVruI9lBb",
        "colab_type": "code",
        "colab": {}
      },
      "source": [
        "x_train = preprocess(_x_train)\n",
        "x_val= preprocess(_x_val)\n",
        "x_test = preprocess(_x_test)\n",
        "\n",
        "y_train = preprocess(_y_train, label=True)\n",
        "y_val = preprocess(_y_val, label=True)\n",
        "y_test = preprocess(_y_test, label=True)\n",
        "\n",
        "print(x_train.shape) # (48000, 28, 28, 1)\n",
        "print(x_val.shape) # (12000, 28, 28, 1)\n",
        "print(x_test.shape) # (10000, 28, 28, 1)\n",
        "print(x_train.max()) # 1.0\n",
        "print(x_val.max()) # 1.0\n",
        "print(y_test.max()) # 1.0\n",
        "print(y_train.shape) # (48000, 10)\n",
        "print(y_val.shape) # (12000, 10) \n",
        "print(y_test.shape) # (10000, 10)"
      ],
      "execution_count": 0,
      "outputs": []
    },
    {
      "cell_type": "markdown",
      "metadata": {
        "id": "qL2O5ONRJ1Gg",
        "colab_type": "text"
      },
      "source": [
        "モデルの定義"
      ]
    },
    {
      "cell_type": "code",
      "metadata": {
        "id": "RJgQIBVR9p_W",
        "colab_type": "code",
        "colab": {}
      },
      "source": [
        "def model_sequential():\n",
        "    activation = 'relu'\n",
        "\n",
        "    model = models.Sequential()\n",
        "\n",
        "    model.add(Conv2D(32, (3, 3), padding='same', name='conv1', input_shape=(28, 28 , 1)))\n",
        "    model.add(Activation(activation, name='act1'))\n",
        "    model.add(MaxPooling2D((2, 2), name='pool1'))\n",
        "\n",
        "    model.add(Conv2D(64, (3, 3), padding='same', name='conv2'))\n",
        "    model.add(Activation(activation, name='act2'))\n",
        "    model.add(MaxPooling2D((2, 2), name='pool2'))\n",
        "\n",
        "    model.add(Conv2D(64, (3, 3), padding='same', name='conv3'))\n",
        "    model.add(Activation(activation, name='act3'))\n",
        "\n",
        "    model.add(Flatten(name='flatten'))\n",
        "    model.add(Dense(64, name='dense4'))\n",
        "    model.add(Activation(activation, name='act4'))\n",
        "    model.add(Dense(10, name='dense5'))\n",
        "    model.add(Activation('softmax', name='last_act'))\n",
        "\n",
        "    return model"
      ],
      "execution_count": 0,
      "outputs": []
    },
    {
      "cell_type": "code",
      "metadata": {
        "id": "uBQpEg-W9t_i",
        "colab_type": "code",
        "colab": {}
      },
      "source": [
        "def model_functional_api():\n",
        "    activation = 'relu'\n",
        "\n",
        "    input = Input(shape=(28, 28, 1))\n",
        "\n",
        "    x = Conv2D(32, (3,3), padding='same', name='conv1')(input)\n",
        "    x = Activation(activation, name='act1')(x)\n",
        "    x = MaxPooling2D((2,2), name='pool1')(x)\n",
        "\n",
        "    x = Conv2D(64, (3,3), padding='same', name='conv2')(x)\n",
        "    x = Activation(activation, name='act2')(x)\n",
        "    x = MaxPooling2D((2,2), name='pool2')(x)\n",
        "\n",
        "    x = Conv2D(64, (3,3), padding='same', name='conv3')(x)\n",
        "    x = Activation(activation, name='act3')(x)\n",
        "\n",
        "    x = Flatten(name='flatten')(x)\n",
        "    x = Dense(64, name='dense4')(x)\n",
        "    x = Activation(activation, name='act4')(x)\n",
        "    x = Dense(10, name='dense5')(x)\n",
        "    output = Activation('softmax', name='last_act')(x)\n",
        "\n",
        "    model = Model(input, output)\n",
        "\n",
        "    return model"
      ],
      "execution_count": 0,
      "outputs": []
    },
    {
      "cell_type": "markdown",
      "metadata": {
        "id": "QoXPyH0SJ4J8",
        "colab_type": "text"
      },
      "source": [
        "モデルのコンパイル"
      ]
    },
    {
      "cell_type": "code",
      "metadata": {
        "id": "K87zLN239wwR",
        "colab_type": "code",
        "colab": {}
      },
      "source": [
        "model = model_sequential()\n",
        "model.summary()\n",
        "model.compile(optimizer='rmsprop',\n",
        "              loss='categorical_crossentropy',\n",
        "              metrics=['accuracy'])"
      ],
      "execution_count": 0,
      "outputs": []
    },
    {
      "cell_type": "markdown",
      "metadata": {
        "id": "HeJ8bOs1J6Td",
        "colab_type": "text"
      },
      "source": [
        "コールバックの設定"
      ]
    },
    {
      "cell_type": "code",
      "metadata": {
        "id": "UfZbMq2c94kD",
        "colab_type": "code",
        "colab": {}
      },
      "source": [
        "ckpt_name = 'weights-{epoch:02d}-{loss:.2f}-{acc:.2f}-{val_loss:.2f}-{val_acc:.2f}-.hdf5'\n",
        "log_dir = \"logs\"\n",
        "cbs = [\n",
        "        TensorBoard(log_dir=log_dir),\n",
        "        ModelCheckpoint(os.path.join(log_dir, ckpt_name),\n",
        "                                   monitor='val_acc', verbose=0,\n",
        "                                   save_best_only=False,\n",
        "                                   save_weights_only=True,\n",
        "                                   mode='auto', period=1)\n",
        "]"
      ],
      "execution_count": 0,
      "outputs": []
    },
    {
      "cell_type": "markdown",
      "metadata": {
        "id": "A7VZRuPyJ9CE",
        "colab_type": "text"
      },
      "source": [
        "データの準備"
      ]
    },
    {
      "cell_type": "code",
      "metadata": {
        "id": "ioJMRc-e9778",
        "colab_type": "code",
        "colab": {}
      },
      "source": [
        "datagen = ImageDataGenerator(\n",
        "    featurewise_center=False,\n",
        "    samplewise_center=False,\n",
        "    featurewise_std_normalization=False,\n",
        "    samplewise_std_normalization=False,\n",
        "    zca_whitening=False,\n",
        "    rotation_range=20,\n",
        "    width_shift_range=0.1,\n",
        "    height_shift_range=0.1,\n",
        "    horizontal_flip=False,\n",
        "    vertical_flip=False)"
      ],
      "execution_count": 0,
      "outputs": []
    },
    {
      "cell_type": "code",
      "metadata": {
        "id": "FVVXfD2w9-dS",
        "colab_type": "code",
        "colab": {}
      },
      "source": [
        "batch_size=128\n",
        "epochs=10\n",
        "verbose=1\n",
        "steps_per_epoch = x_train.shape[0] // batch_size\n",
        "\n",
        "history = model.fit_generator(\n",
        "    datagen.flow(x_train, y_train, batch_size=batch_size),\n",
        "    steps_per_epoch=steps_per_epoch,\n",
        "    epochs=epochs,\n",
        "    validation_data=(x_val, y_val),\n",
        "    callbacks=cbs,\n",
        "    verbose=verbose)"
      ],
      "execution_count": 0,
      "outputs": []
    },
    {
      "cell_type": "markdown",
      "metadata": {
        "id": "66jz5Q7sMlKZ",
        "colab_type": "text"
      },
      "source": [
        "学習ログの表示"
      ]
    },
    {
      "cell_type": "code",
      "metadata": {
        "id": "mi2WScAo-G-l",
        "colab_type": "code",
        "colab": {}
      },
      "source": [
        "acc = history.history['acc']\n",
        "val_acc = history.history['val_acc']\n",
        "\n",
        "epochs = range(1, len(acc)+1)\n",
        "plt.plot(epochs, acc, 'b', label='Training accuracy')\n",
        "plt.plot(epochs, val_acc, 'r', label='Val accuracy')\n",
        "plt.legend()\n",
        "plt.show()"
      ],
      "execution_count": 0,
      "outputs": []
    },
    {
      "cell_type": "code",
      "metadata": {
        "id": "aZjWVMWAAKAO",
        "colab_type": "code",
        "colab": {}
      },
      "source": [
        "loss = history.history['loss']\n",
        "val_loss = history.history['val_loss']\n",
        "\n",
        "epochs = range(1, len(loss)+1 )\n",
        "plt.plot(epochs, loss, 'b', label='Training loss')\n",
        "plt.plot(epochs, val_loss, 'r', label='Val loss')\n",
        "plt.legend()\n",
        "plt.show()"
      ],
      "execution_count": 0,
      "outputs": []
    },
    {
      "cell_type": "code",
      "metadata": {
        "id": "8bhP_yMhA1pF",
        "colab_type": "code",
        "colab": {}
      },
      "source": [
        "def key_sort_by_num(x):\n",
        "    re_list = re.findall(r\"[0-9]+\", x)\n",
        "    re_list = list(map(int, re_list))\n",
        "    return re_list\n",
        "\n",
        "\n",
        "def list_from_dir(dir, target_ext=None):\n",
        "    data_list = []\n",
        "    fnames = os.listdir(dir)\n",
        "    fnames = sorted(fnames, key=key_sort_by_num)\n",
        "    for fname in fnames:\n",
        "        if target_ext is None:\n",
        "            path = os.path.join(dir, fname)\n",
        "            data_list.append(path)\n",
        "        else:\n",
        "            _, ext = os.path.splitext(fname)\n",
        "            if ext.lower() in target_ext:\n",
        "                path = os.path.join(dir, fname)\n",
        "                data_list.append(path)\n",
        "    return data_list\n",
        "\n",
        "\n",
        "def latest_weight(log_dir):\n",
        "    weight_paths = list_from_dir(log_dir, '.hdf5')\n",
        "    return weight_paths[-1]"
      ],
      "execution_count": 0,
      "outputs": []
    },
    {
      "cell_type": "markdown",
      "metadata": {
        "id": "_nWxzOnTMrsp",
        "colab_type": "text"
      },
      "source": [
        "モデルの評価"
      ]
    },
    {
      "cell_type": "code",
      "metadata": {
        "id": "oE3fYrCcDBhM",
        "colab_type": "code",
        "colab": {}
      },
      "source": [
        "model = model_sequential()\n",
        "\n",
        "ckpt = latest_weight(log_dir)\n",
        "model.load_weights(ckpt)\n",
        "\n",
        "model.compile(optimizer='rmsprop',\n",
        "              loss='categorical_crossentropy',\n",
        "              metrics=['accuracy'])\n",
        "\n",
        "\n",
        "score = model.evaluate(x_test,  y_test)\n",
        "print(list(zip(model.metrics_names, score)))\n"
      ],
      "execution_count": 0,
      "outputs": []
    },
    {
      "cell_type": "markdown",
      "metadata": {
        "id": "D8t0NW5pMvKk",
        "colab_type": "text"
      },
      "source": [
        "テストデータの表示"
      ]
    },
    {
      "cell_type": "code",
      "metadata": {
        "id": "tce7iMARDGYK",
        "colab_type": "code",
        "colab": {}
      },
      "source": [
        "plt.figure(figsize=(10,10))\n",
        "\n",
        "for i in range(10):\n",
        "    data = [(x,t) for x, t in zip(_x_test, _y_test) if t == i]\n",
        "    x, y = data[0]\n",
        "\n",
        "    pred = model.predict(preprocess(x, label=False))\n",
        "\n",
        "    ans = np.argmax(pred)\n",
        "    score = np.max(pred) * 100\n",
        "\n",
        "    plt.subplot(5,2, i +1)\n",
        "    plt.axis(\"off\")\n",
        "    plt.title(\"ans={} score={}\\n{}\".format(ans, score,ans==y))\n",
        "\n",
        "    plt.imshow(x, cmap='gray')\n",
        "\n",
        "\n",
        "plt.tight_layout()\n",
        "plt.show()"
      ],
      "execution_count": 0,
      "outputs": []
    },
    {
      "cell_type": "code",
      "metadata": {
        "id": "tsRg8bKwDL1H",
        "colab_type": "code",
        "colab": {}
      },
      "source": [
        ""
      ],
      "execution_count": 0,
      "outputs": []
    }
  ]
}